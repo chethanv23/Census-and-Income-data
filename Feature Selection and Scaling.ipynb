{
 "cells": [
  {
   "cell_type": "markdown",
   "id": "69519286",
   "metadata": {},
   "source": [
    "# Feature Selection and Scaling"
   ]
  },
  {
   "cell_type": "code",
   "execution_count": 200,
   "id": "f01b55f3",
   "metadata": {},
   "outputs": [],
   "source": [
    "import pandas as pd\n",
    "import matplotlib.pyplot as plt\n",
    "import seaborn as sb\n",
    "import numpy as np\n",
    "import os\n",
    "from statsmodels.stats.outliers_influence import variance_inflation_factor\n",
    "from scipy.stats import chi2_contingency\n",
    "from sklearn.preprocessing import StandardScaler"
   ]
  },
  {
   "cell_type": "code",
   "execution_count": 3,
   "id": "3721ca82",
   "metadata": {},
   "outputs": [],
   "source": [
    "os.chdir(\"C:\\\\Users\\\\kumarvch\\\\OneDrive - HP Inc\\\\census_income_casestudy\")"
   ]
  },
  {
   "cell_type": "code",
   "execution_count": 257,
   "id": "fa0c8523",
   "metadata": {},
   "outputs": [],
   "source": [
    "data = pd.read_csv(\"pre_data.csv\")\n",
    "test= pd.read_csv(\"pre_test.csv\")"
   ]
  },
  {
   "cell_type": "code",
   "execution_count": 258,
   "id": "20dbe6e9",
   "metadata": {},
   "outputs": [
    {
     "data": {
      "text/plain": [
       "((32561, 16), (16281, 16))"
      ]
     },
     "execution_count": 258,
     "metadata": {},
     "output_type": "execute_result"
    }
   ],
   "source": [
    "data.shape, test.shape"
   ]
  },
  {
   "cell_type": "code",
   "execution_count": 259,
   "id": "6c9471fe",
   "metadata": {},
   "outputs": [],
   "source": [
    "data.drop(\"Unnamed: 0\" , axis=1 ,inplace=True)\n",
    "test.drop(\"Unnamed: 0\" , axis=1 ,inplace=True)"
   ]
  },
  {
   "cell_type": "markdown",
   "id": "2d1ac360",
   "metadata": {},
   "source": [
    "* education column is lable encoded as education staus with high-value given to Doctarate and low value given to preschool so we can remove education column and keep only education status"
   ]
  },
  {
   "cell_type": "code",
   "execution_count": 260,
   "id": "cf12917e",
   "metadata": {},
   "outputs": [],
   "source": [
    "data.drop(\"education\" , axis=1 ,inplace=True)\n",
    "test.drop(\"education\" , axis=1 ,inplace=True) "
   ]
  },
  {
   "cell_type": "code",
   "execution_count": 261,
   "id": "e107560f",
   "metadata": {},
   "outputs": [
    {
     "data": {
      "text/html": [
       "<div>\n",
       "<style scoped>\n",
       "    .dataframe tbody tr th:only-of-type {\n",
       "        vertical-align: middle;\n",
       "    }\n",
       "\n",
       "    .dataframe tbody tr th {\n",
       "        vertical-align: top;\n",
       "    }\n",
       "\n",
       "    .dataframe thead th {\n",
       "        text-align: right;\n",
       "    }\n",
       "</style>\n",
       "<table border=\"1\" class=\"dataframe\">\n",
       "  <thead>\n",
       "    <tr style=\"text-align: right;\">\n",
       "      <th></th>\n",
       "      <th>age</th>\n",
       "      <th>workclass</th>\n",
       "      <th>fnlwgt</th>\n",
       "      <th>education_status</th>\n",
       "      <th>marital-status</th>\n",
       "      <th>occupation</th>\n",
       "      <th>relationship</th>\n",
       "      <th>race</th>\n",
       "      <th>sex</th>\n",
       "      <th>capital-gain</th>\n",
       "      <th>capital-los</th>\n",
       "      <th>hours-per-week</th>\n",
       "      <th>native-country</th>\n",
       "      <th>Income</th>\n",
       "    </tr>\n",
       "  </thead>\n",
       "  <tbody>\n",
       "    <tr>\n",
       "      <th>0</th>\n",
       "      <td>39</td>\n",
       "      <td>State-gov</td>\n",
       "      <td>77516</td>\n",
       "      <td>13</td>\n",
       "      <td>Never-married</td>\n",
       "      <td>Adm-clerical</td>\n",
       "      <td>Not-in-family</td>\n",
       "      <td>White</td>\n",
       "      <td>Male</td>\n",
       "      <td>2174</td>\n",
       "      <td>0</td>\n",
       "      <td>40</td>\n",
       "      <td>United-States</td>\n",
       "      <td>&lt;=50K</td>\n",
       "    </tr>\n",
       "    <tr>\n",
       "      <th>1</th>\n",
       "      <td>50</td>\n",
       "      <td>Self-emp-not-inc</td>\n",
       "      <td>83311</td>\n",
       "      <td>13</td>\n",
       "      <td>Married-civ-spouse</td>\n",
       "      <td>Exec-managerial</td>\n",
       "      <td>Husband</td>\n",
       "      <td>White</td>\n",
       "      <td>Male</td>\n",
       "      <td>0</td>\n",
       "      <td>0</td>\n",
       "      <td>13</td>\n",
       "      <td>United-States</td>\n",
       "      <td>&lt;=50K</td>\n",
       "    </tr>\n",
       "    <tr>\n",
       "      <th>2</th>\n",
       "      <td>38</td>\n",
       "      <td>Private</td>\n",
       "      <td>215646</td>\n",
       "      <td>9</td>\n",
       "      <td>Divorced</td>\n",
       "      <td>Handlers-cleaners</td>\n",
       "      <td>Not-in-family</td>\n",
       "      <td>White</td>\n",
       "      <td>Male</td>\n",
       "      <td>0</td>\n",
       "      <td>0</td>\n",
       "      <td>40</td>\n",
       "      <td>United-States</td>\n",
       "      <td>&lt;=50K</td>\n",
       "    </tr>\n",
       "    <tr>\n",
       "      <th>3</th>\n",
       "      <td>53</td>\n",
       "      <td>Private</td>\n",
       "      <td>234721</td>\n",
       "      <td>7</td>\n",
       "      <td>Married-civ-spouse</td>\n",
       "      <td>Handlers-cleaners</td>\n",
       "      <td>Husband</td>\n",
       "      <td>Black</td>\n",
       "      <td>Male</td>\n",
       "      <td>0</td>\n",
       "      <td>0</td>\n",
       "      <td>40</td>\n",
       "      <td>United-States</td>\n",
       "      <td>&lt;=50K</td>\n",
       "    </tr>\n",
       "    <tr>\n",
       "      <th>4</th>\n",
       "      <td>28</td>\n",
       "      <td>Private</td>\n",
       "      <td>329054</td>\n",
       "      <td>13</td>\n",
       "      <td>Married-civ-spouse</td>\n",
       "      <td>Prof-specialty</td>\n",
       "      <td>Wife</td>\n",
       "      <td>Black</td>\n",
       "      <td>Female</td>\n",
       "      <td>0</td>\n",
       "      <td>0</td>\n",
       "      <td>40</td>\n",
       "      <td>Cuba</td>\n",
       "      <td>&lt;=50K</td>\n",
       "    </tr>\n",
       "  </tbody>\n",
       "</table>\n",
       "</div>"
      ],
      "text/plain": [
       "   age          workclass  fnlwgt  education_status       marital-status  \\\n",
       "0   39          State-gov   77516                13        Never-married   \n",
       "1   50   Self-emp-not-inc   83311                13   Married-civ-spouse   \n",
       "2   38            Private  215646                 9             Divorced   \n",
       "3   53            Private  234721                 7   Married-civ-spouse   \n",
       "4   28            Private  329054                13   Married-civ-spouse   \n",
       "\n",
       "           occupation    relationship    race      sex  capital-gain  \\\n",
       "0        Adm-clerical   Not-in-family   White     Male          2174   \n",
       "1     Exec-managerial         Husband   White     Male             0   \n",
       "2   Handlers-cleaners   Not-in-family   White     Male             0   \n",
       "3   Handlers-cleaners         Husband   Black     Male             0   \n",
       "4      Prof-specialty            Wife   Black   Female             0   \n",
       "\n",
       "   capital-los  hours-per-week  native-country  Income  \n",
       "0            0              40   United-States   <=50K  \n",
       "1            0              13   United-States   <=50K  \n",
       "2            0              40   United-States   <=50K  \n",
       "3            0              40   United-States   <=50K  \n",
       "4            0              40            Cuba   <=50K  "
      ]
     },
     "execution_count": 261,
     "metadata": {},
     "output_type": "execute_result"
    }
   ],
   "source": [
    "data.head()"
   ]
  },
  {
   "cell_type": "code",
   "execution_count": 262,
   "id": "f85a33cf",
   "metadata": {
    "scrolled": false
   },
   "outputs": [
    {
     "data": {
      "text/plain": [
       " United-States                 0.913762\n",
       " Mexico                        0.019748\n",
       " Philippines                   0.006081\n",
       " Germany                       0.004207\n",
       " Canada                        0.003716\n",
       " Puerto-Rico                   0.003501\n",
       " El-Salvador                   0.003255\n",
       " India                         0.003071\n",
       " Cuba                          0.002918\n",
       " England                       0.002764\n",
       " Jamaica                       0.002488\n",
       " South                         0.002457\n",
       " China                         0.002303\n",
       " Italy                         0.002242\n",
       " Dominican-Republic            0.002150\n",
       " Vietnam                       0.002058\n",
       " Guatemala                     0.001966\n",
       " Japan                         0.001904\n",
       " Poland                        0.001843\n",
       " Columbia                      0.001812\n",
       " Taiwan                        0.001566\n",
       " Haiti                         0.001351\n",
       " Iran                          0.001321\n",
       " Portugal                      0.001136\n",
       " Nicaragua                     0.001044\n",
       " Peru                          0.000952\n",
       " Greece                        0.000891\n",
       " France                        0.000891\n",
       " Ecuador                       0.000860\n",
       " Ireland                       0.000737\n",
       " Hong                          0.000614\n",
       " Cambodia                      0.000584\n",
       " Trinadad&Tobago               0.000584\n",
       " Thailand                      0.000553\n",
       " Laos                          0.000553\n",
       " Yugoslavia                    0.000491\n",
       " Outlying-US(Guam-USVI-etc)    0.000430\n",
       " Honduras                      0.000399\n",
       " Hungary                       0.000399\n",
       " Scotland                      0.000369\n",
       " Holand-Netherlands            0.000031\n",
       "Name: native-country, dtype: float64"
      ]
     },
     "execution_count": 262,
     "metadata": {},
     "output_type": "execute_result"
    }
   ],
   "source": [
    "data['native-country'].value_counts(normalize=True)"
   ]
  },
  {
   "cell_type": "markdown",
   "id": "609b1010",
   "metadata": {},
   "source": [
    "United states is the country for more than 90% of the Native country field, hence it is better to combine all other countries to others"
   ]
  },
  {
   "cell_type": "code",
   "execution_count": 264,
   "id": "b8a25e7e",
   "metadata": {},
   "outputs": [
    {
     "data": {
      "text/plain": [
       "array([' United-States', ' Cuba', ' Jamaica', ' India', ' Mexico',\n",
       "       ' South', ' Puerto-Rico', ' Honduras', ' England', ' Canada',\n",
       "       ' Germany', ' Iran', ' Philippines', ' Italy', ' Poland',\n",
       "       ' Columbia', ' Cambodia', ' Thailand', ' Ecuador', ' Laos',\n",
       "       ' Taiwan', ' Haiti', ' Portugal', ' Dominican-Republic',\n",
       "       ' El-Salvador', ' France', ' Guatemala', ' China', ' Japan',\n",
       "       ' Yugoslavia', ' Peru', ' Outlying-US(Guam-USVI-etc)', ' Scotland',\n",
       "       ' Trinadad&Tobago', ' Greece', ' Nicaragua', ' Vietnam', ' Hong',\n",
       "       ' Ireland', ' Hungary', ' Holand-Netherlands'], dtype=object)"
      ]
     },
     "execution_count": 264,
     "metadata": {},
     "output_type": "execute_result"
    }
   ],
   "source": [
    "data['native-country'].unique()"
   ]
  },
  {
   "cell_type": "code",
   "execution_count": 267,
   "id": "a9c1ab23",
   "metadata": {},
   "outputs": [],
   "source": [
    "data['native-country'] = data['native-country'].replace([' Cuba', ' Jamaica', ' India',\n",
    "       ' South', ' Puerto-Rico', ' Honduras', ' England', ' Canada',\n",
    "       ' Germany', ' Iran', ' Philippines', ' Italy', ' Poland',\n",
    "       ' Columbia', ' Cambodia', ' Thailand', ' Ecuador', ' Laos',\n",
    "       ' Taiwan', ' Haiti', ' Portugal', ' Dominican-Republic',\n",
    "       ' El-Salvador', ' France', ' Guatemala', ' China', ' Japan',\n",
    "       ' Yugoslavia', ' Peru', ' Outlying-US(Guam-USVI-etc)', ' Scotland',\n",
    "       ' Trinadad&Tobago', ' Greece', ' Nicaragua', ' Vietnam', ' Hong',\n",
    "       ' Ireland', ' Hungary', ' Holand-Netherlands'],'others')"
   ]
  },
  {
   "cell_type": "code",
   "execution_count": 268,
   "id": "306e226f",
   "metadata": {},
   "outputs": [],
   "source": [
    "test['native-country'] = test['native-country'].replace([' Cuba', ' Jamaica', ' India',\n",
    "       ' South', ' Puerto-Rico', ' Honduras', ' England', ' Canada',\n",
    "       ' Germany', ' Iran', ' Philippines', ' Italy', ' Poland',\n",
    "       ' Columbia', ' Cambodia', ' Thailand', ' Ecuador', ' Laos',\n",
    "       ' Taiwan', ' Haiti', ' Portugal', ' Dominican-Republic',\n",
    "       ' El-Salvador', ' France', ' Guatemala', ' China', ' Japan',\n",
    "       ' Yugoslavia', ' Peru', ' Outlying-US(Guam-USVI-etc)', ' Scotland',\n",
    "       ' Trinadad&Tobago', ' Greece', ' Nicaragua', ' Vietnam', ' Hong',\n",
    "       ' Ireland', ' Hungary', ' Holand-Netherlands'],'others')"
   ]
  },
  {
   "cell_type": "code",
   "execution_count": 217,
   "id": "b2f72496",
   "metadata": {},
   "outputs": [
    {
     "data": {
      "text/plain": [
       " United-States    0.913762\n",
       "others            0.066491\n",
       " Mexico           0.019748\n",
       "Name: native-country, dtype: float64"
      ]
     },
     "execution_count": 217,
     "metadata": {},
     "output_type": "execute_result"
    }
   ],
   "source": [
    "data['native-country'].value_counts(normalize=True)"
   ]
  },
  {
   "cell_type": "code",
   "execution_count": 218,
   "id": "cba77d3e",
   "metadata": {},
   "outputs": [
    {
     "data": {
      "text/plain": [
       " United-States    0.917388\n",
       "others            0.063694\n",
       " Mexico           0.018918\n",
       "Name: native-country, dtype: float64"
      ]
     },
     "execution_count": 218,
     "metadata": {},
     "output_type": "execute_result"
    }
   ],
   "source": [
    "test['native-country'].value_counts(normalize=True)"
   ]
  },
  {
   "cell_type": "code",
   "execution_count": 34,
   "id": "27a4f301",
   "metadata": {
    "scrolled": true
   },
   "outputs": [
    {
     "data": {
      "text/html": [
       "<div>\n",
       "<style scoped>\n",
       "    .dataframe tbody tr th:only-of-type {\n",
       "        vertical-align: middle;\n",
       "    }\n",
       "\n",
       "    .dataframe tbody tr th {\n",
       "        vertical-align: top;\n",
       "    }\n",
       "\n",
       "    .dataframe thead th {\n",
       "        text-align: right;\n",
       "    }\n",
       "</style>\n",
       "<table border=\"1\" class=\"dataframe\">\n",
       "  <thead>\n",
       "    <tr style=\"text-align: right;\">\n",
       "      <th>Income</th>\n",
       "      <th>&lt;=50K</th>\n",
       "      <th>&gt;50K</th>\n",
       "    </tr>\n",
       "    <tr>\n",
       "      <th>native-country</th>\n",
       "      <th></th>\n",
       "      <th></th>\n",
       "    </tr>\n",
       "  </thead>\n",
       "  <tbody>\n",
       "    <tr>\n",
       "      <th>Mexico</th>\n",
       "      <td>0.948678</td>\n",
       "      <td>0.051322</td>\n",
       "    </tr>\n",
       "    <tr>\n",
       "      <th>United-States</th>\n",
       "      <td>0.754075</td>\n",
       "      <td>0.245925</td>\n",
       "    </tr>\n",
       "    <tr>\n",
       "      <th>others</th>\n",
       "      <td>0.773210</td>\n",
       "      <td>0.226790</td>\n",
       "    </tr>\n",
       "  </tbody>\n",
       "</table>\n",
       "</div>"
      ],
      "text/plain": [
       "Income             <=50K      >50K\n",
       "native-country                    \n",
       " Mexico         0.948678  0.051322\n",
       " United-States  0.754075  0.245925\n",
       "others          0.773210  0.226790"
      ]
     },
     "execution_count": 34,
     "metadata": {},
     "output_type": "execute_result"
    },
    {
     "data": {
      "image/png": "[encoded data removed]",
      "text/plain": [
       "<Figure size 432x288 with 1 Axes>"
      ]
     },
     "metadata": {
      "needs_background": "light"
     },
     "output_type": "display_data"
    }
   ],
   "source": [
    "data.groupby(['native-country']).Income.value_counts().unstack().plot(kind='bar')\n",
    "data.groupby(['native-country']).Income.value_counts(normalize = True).unstack()"
   ]
  },
  {
   "cell_type": "code",
   "execution_count": 64,
   "id": "a4a50b82",
   "metadata": {},
   "outputs": [
    {
     "data": {
      "text/plain": [
       "array([' White', ' Black', ' Asian-Pac-Islander', ' Amer-Indian-Eskimo',\n",
       "       ' Other'], dtype=object)"
      ]
     },
     "execution_count": 64,
     "metadata": {},
     "output_type": "execute_result"
    }
   ],
   "source": [
    "data.race.unique()"
   ]
  },
  {
   "cell_type": "code",
   "execution_count": 270,
   "id": "ba46eccd",
   "metadata": {},
   "outputs": [
    {
     "data": {
      "text/plain": [
       "array([' Black', ' White', ' Asian-Pac-Islander', ' Other',\n",
       "       ' Amer-Indian-Eskimo'], dtype=object)"
      ]
     },
     "execution_count": 270,
     "metadata": {},
     "output_type": "execute_result"
    }
   ],
   "source": [
    "test.race.unique()"
   ]
  },
  {
   "cell_type": "code",
   "execution_count": 271,
   "id": "08bd79ad",
   "metadata": {},
   "outputs": [],
   "source": [
    "data['race'] = data['race'].replace([' Asian-Pac-Islander', ' Amer-Indian-Eskimo',\n",
    "       ' Other'] , 'Other')"
   ]
  },
  {
   "cell_type": "code",
   "execution_count": 272,
   "id": "3b2fa4e4",
   "metadata": {},
   "outputs": [],
   "source": [
    "test['race'] = test['race'].replace([' Asian-Pac-Islander', ' Amer-Indian-Eskimo',\n",
    "       ' Other'] , 'Other')"
   ]
  },
  {
   "cell_type": "code",
   "execution_count": 273,
   "id": "14cd4bf3",
   "metadata": {},
   "outputs": [
    {
     "data": {
      "text/plain": [
       "((32561, 14), (16281, 14))"
      ]
     },
     "execution_count": 273,
     "metadata": {},
     "output_type": "execute_result"
    }
   ],
   "source": [
    "data.shape, test.shape"
   ]
  },
  {
   "cell_type": "markdown",
   "id": "e9710cb0",
   "metadata": {},
   "source": [
    "# Feature selection"
   ]
  },
  {
   "cell_type": "code",
   "execution_count": 220,
   "id": "d0fd08d1",
   "metadata": {},
   "outputs": [],
   "source": [
    "cnames = [feature for feature in data.columns if data[feature].dtypes != 'O']"
   ]
  },
  {
   "cell_type": "code",
   "execution_count": 221,
   "id": "474e1c1c",
   "metadata": {},
   "outputs": [],
   "source": [
    "cnames.remove('education_status')"
   ]
  },
  {
   "cell_type": "code",
   "execution_count": 222,
   "id": "1869c945",
   "metadata": {},
   "outputs": [
    {
     "data": {
      "text/html": [
       "<div>\n",
       "<style scoped>\n",
       "    .dataframe tbody tr th:only-of-type {\n",
       "        vertical-align: middle;\n",
       "    }\n",
       "\n",
       "    .dataframe tbody tr th {\n",
       "        vertical-align: top;\n",
       "    }\n",
       "\n",
       "    .dataframe thead th {\n",
       "        text-align: right;\n",
       "    }\n",
       "</style>\n",
       "<table border=\"1\" class=\"dataframe\">\n",
       "  <thead>\n",
       "    <tr style=\"text-align: right;\">\n",
       "      <th></th>\n",
       "      <th>age</th>\n",
       "      <th>fnlwgt</th>\n",
       "      <th>capital-gain</th>\n",
       "      <th>capital-los</th>\n",
       "      <th>hours-per-week</th>\n",
       "    </tr>\n",
       "  </thead>\n",
       "  <tbody>\n",
       "    <tr>\n",
       "      <th>0</th>\n",
       "      <td>39</td>\n",
       "      <td>77516</td>\n",
       "      <td>2174</td>\n",
       "      <td>0</td>\n",
       "      <td>40</td>\n",
       "    </tr>\n",
       "    <tr>\n",
       "      <th>1</th>\n",
       "      <td>50</td>\n",
       "      <td>83311</td>\n",
       "      <td>0</td>\n",
       "      <td>0</td>\n",
       "      <td>13</td>\n",
       "    </tr>\n",
       "    <tr>\n",
       "      <th>2</th>\n",
       "      <td>38</td>\n",
       "      <td>215646</td>\n",
       "      <td>0</td>\n",
       "      <td>0</td>\n",
       "      <td>40</td>\n",
       "    </tr>\n",
       "    <tr>\n",
       "      <th>3</th>\n",
       "      <td>53</td>\n",
       "      <td>234721</td>\n",
       "      <td>0</td>\n",
       "      <td>0</td>\n",
       "      <td>40</td>\n",
       "    </tr>\n",
       "    <tr>\n",
       "      <th>4</th>\n",
       "      <td>28</td>\n",
       "      <td>329054</td>\n",
       "      <td>0</td>\n",
       "      <td>0</td>\n",
       "      <td>40</td>\n",
       "    </tr>\n",
       "    <tr>\n",
       "      <th>...</th>\n",
       "      <td>...</td>\n",
       "      <td>...</td>\n",
       "      <td>...</td>\n",
       "      <td>...</td>\n",
       "      <td>...</td>\n",
       "    </tr>\n",
       "    <tr>\n",
       "      <th>32556</th>\n",
       "      <td>27</td>\n",
       "      <td>257302</td>\n",
       "      <td>0</td>\n",
       "      <td>0</td>\n",
       "      <td>38</td>\n",
       "    </tr>\n",
       "    <tr>\n",
       "      <th>32557</th>\n",
       "      <td>40</td>\n",
       "      <td>154374</td>\n",
       "      <td>0</td>\n",
       "      <td>0</td>\n",
       "      <td>40</td>\n",
       "    </tr>\n",
       "    <tr>\n",
       "      <th>32558</th>\n",
       "      <td>58</td>\n",
       "      <td>151910</td>\n",
       "      <td>0</td>\n",
       "      <td>0</td>\n",
       "      <td>40</td>\n",
       "    </tr>\n",
       "    <tr>\n",
       "      <th>32559</th>\n",
       "      <td>22</td>\n",
       "      <td>201490</td>\n",
       "      <td>0</td>\n",
       "      <td>0</td>\n",
       "      <td>20</td>\n",
       "    </tr>\n",
       "    <tr>\n",
       "      <th>32560</th>\n",
       "      <td>52</td>\n",
       "      <td>287927</td>\n",
       "      <td>15024</td>\n",
       "      <td>0</td>\n",
       "      <td>40</td>\n",
       "    </tr>\n",
       "  </tbody>\n",
       "</table>\n",
       "<p>32561 rows × 5 columns</p>\n",
       "</div>"
      ],
      "text/plain": [
       "       age  fnlwgt  capital-gain  capital-los  hours-per-week\n",
       "0       39   77516          2174            0              40\n",
       "1       50   83311             0            0              13\n",
       "2       38  215646             0            0              40\n",
       "3       53  234721             0            0              40\n",
       "4       28  329054             0            0              40\n",
       "...    ...     ...           ...          ...             ...\n",
       "32556   27  257302             0            0              38\n",
       "32557   40  154374             0            0              40\n",
       "32558   58  151910             0            0              40\n",
       "32559   22  201490             0            0              20\n",
       "32560   52  287927         15024            0              40\n",
       "\n",
       "[32561 rows x 5 columns]"
      ]
     },
     "execution_count": 222,
     "metadata": {},
     "output_type": "execute_result"
    }
   ],
   "source": [
    "data[cnames]"
   ]
  },
  {
   "cell_type": "markdown",
   "id": "433e9f18",
   "metadata": {},
   "source": [
    "### correlation plot for colinearity between two features"
   ]
  },
  {
   "cell_type": "code",
   "execution_count": 223,
   "id": "ee019afb",
   "metadata": {
    "scrolled": false
   },
   "outputs": [
    {
     "data": {
      "image/png": "[encoded data removed]",
      "text/plain": [
       "<Figure size 720x720 with 2 Axes>"
      ]
     },
     "metadata": {
      "needs_background": "light"
     },
     "output_type": "display_data"
    }
   ],
   "source": [
    "plt.figure(figsize=(10,10))\n",
    "sb.heatmap(data[cnames].corr() , annot=True, )\n",
    "plt.show()"
   ]
  },
  {
   "cell_type": "markdown",
   "id": "590dfc22",
   "metadata": {},
   "source": [
    "### multicollinearity check"
   ]
  },
  {
   "cell_type": "code",
   "execution_count": 224,
   "id": "cfd5ac9c",
   "metadata": {},
   "outputs": [],
   "source": [
    "def calc_vif(X):\n",
    "\n",
    "    # Calculating VIF\n",
    "    vif = pd.DataFrame()\n",
    "    vif[\"variables\"] = X.columns\n",
    "    vif[\"VIF\"] = [variance_inflation_factor(X.values, i) for i in range(X.shape[1])]\n",
    "\n",
    "    return(vif)"
   ]
  },
  {
   "cell_type": "code",
   "execution_count": 225,
   "id": "f5fc08d8",
   "metadata": {},
   "outputs": [
    {
     "data": {
      "text/html": [
       "<div>\n",
       "<style scoped>\n",
       "    .dataframe tbody tr th:only-of-type {\n",
       "        vertical-align: middle;\n",
       "    }\n",
       "\n",
       "    .dataframe tbody tr th {\n",
       "        vertical-align: top;\n",
       "    }\n",
       "\n",
       "    .dataframe thead th {\n",
       "        text-align: right;\n",
       "    }\n",
       "</style>\n",
       "<table border=\"1\" class=\"dataframe\">\n",
       "  <thead>\n",
       "    <tr style=\"text-align: right;\">\n",
       "      <th></th>\n",
       "      <th>variables</th>\n",
       "      <th>VIF</th>\n",
       "    </tr>\n",
       "  </thead>\n",
       "  <tbody>\n",
       "    <tr>\n",
       "      <th>0</th>\n",
       "      <td>age</td>\n",
       "      <td>6.234615</td>\n",
       "    </tr>\n",
       "    <tr>\n",
       "      <th>1</th>\n",
       "      <td>fnlwgt</td>\n",
       "      <td>4.284578</td>\n",
       "    </tr>\n",
       "    <tr>\n",
       "      <th>2</th>\n",
       "      <td>capital-gain</td>\n",
       "      <td>1.030342</td>\n",
       "    </tr>\n",
       "    <tr>\n",
       "      <th>3</th>\n",
       "      <td>capital-los</td>\n",
       "      <td>1.054298</td>\n",
       "    </tr>\n",
       "    <tr>\n",
       "      <th>4</th>\n",
       "      <td>hours-per-week</td>\n",
       "      <td>7.087880</td>\n",
       "    </tr>\n",
       "  </tbody>\n",
       "</table>\n",
       "</div>"
      ],
      "text/plain": [
       "        variables       VIF\n",
       "0             age  6.234615\n",
       "1          fnlwgt  4.284578\n",
       "2    capital-gain  1.030342\n",
       "3     capital-los  1.054298\n",
       "4  hours-per-week  7.087880"
      ]
     },
     "execution_count": 225,
     "metadata": {},
     "output_type": "execute_result"
    }
   ],
   "source": [
    "calc_vif(data[cnames])"
   ]
  },
  {
   "cell_type": "code",
   "execution_count": 226,
   "id": "26e7ab7b",
   "metadata": {},
   "outputs": [],
   "source": [
    "## if the VIF score for any feature is greater than 10 , it is a clear sigh of multicollinearity"
   ]
  },
  {
   "cell_type": "markdown",
   "id": "46c4da91",
   "metadata": {},
   "source": [
    "### Correlation between categorical features"
   ]
  },
  {
   "cell_type": "code",
   "execution_count": 227,
   "id": "d7626ff7",
   "metadata": {},
   "outputs": [],
   "source": [
    "cat_names = [features for features in data.columns if data[features].dtypes == 'O']"
   ]
  },
  {
   "cell_type": "code",
   "execution_count": 228,
   "id": "9c4121b0",
   "metadata": {},
   "outputs": [],
   "source": [
    "cat_names.append('education_status')"
   ]
  },
  {
   "cell_type": "code",
   "execution_count": 229,
   "id": "e1838dba",
   "metadata": {
    "scrolled": true
   },
   "outputs": [
    {
     "name": "stdout",
     "output_type": "stream",
     "text": [
      " pvalue for the variable workclass is 2.026505431120716e-220 \n",
      " pvalue for the variable marital-status is 0.0 \n",
      " pvalue for the variable occupation is 0.0 \n",
      " pvalue for the variable relationship is 0.0 \n",
      " pvalue for the variable race is 2.305960610160958e-70 \n",
      " pvalue for the variable sex is 0.0 \n",
      " pvalue for the variable native-country is 1.404981041141479e-29 \n",
      " pvalue for the variable Income is 0.0 \n",
      " pvalue for the variable education_status is 0.0 \n"
     ]
    }
   ],
   "source": [
    "for i in cat_names:\n",
    "    chi2 , p , dof , ex = chi2_contingency(pd.crosstab(data[i] , data['Income']))\n",
    "    print(\" pvalue for the variable {} is {} \".format(i , p , dof))   "
   ]
  },
  {
   "cell_type": "code",
   "execution_count": 345,
   "id": "5be14c23",
   "metadata": {},
   "outputs": [
    {
     "data": {
      "text/plain": [
       "array([' <=50K.', ' >50K.'], dtype=object)"
      ]
     },
     "execution_count": 345,
     "metadata": {},
     "output_type": "execute_result"
    }
   ],
   "source": [
    "test.Income.unique()"
   ]
  },
  {
   "cell_type": "code",
   "execution_count": 230,
   "id": "cc7f14a3",
   "metadata": {},
   "outputs": [],
   "source": [
    "# p value for all the featues are less than 0.05 so we reject the null hypothesis that they are independent, so we consider all the variable for out analysis"
   ]
  },
  {
   "cell_type": "code",
   "execution_count": 370,
   "id": "3e6b706a",
   "metadata": {},
   "outputs": [],
   "source": [
    "data_final = data.copy()\n",
    "data_final_test = test.copy()"
   ]
  },
  {
   "cell_type": "code",
   "execution_count": 371,
   "id": "848f6f5a",
   "metadata": {
    "scrolled": true
   },
   "outputs": [
    {
     "data": {
      "text/html": [
       "<div>\n",
       "<style scoped>\n",
       "    .dataframe tbody tr th:only-of-type {\n",
       "        vertical-align: middle;\n",
       "    }\n",
       "\n",
       "    .dataframe tbody tr th {\n",
       "        vertical-align: top;\n",
       "    }\n",
       "\n",
       "    .dataframe thead th {\n",
       "        text-align: right;\n",
       "    }\n",
       "</style>\n",
       "<table border=\"1\" class=\"dataframe\">\n",
       "  <thead>\n",
       "    <tr style=\"text-align: right;\">\n",
       "      <th></th>\n",
       "      <th>age</th>\n",
       "      <th>workclass</th>\n",
       "      <th>fnlwgt</th>\n",
       "      <th>education_status</th>\n",
       "      <th>marital-status</th>\n",
       "      <th>occupation</th>\n",
       "      <th>relationship</th>\n",
       "      <th>race</th>\n",
       "      <th>sex</th>\n",
       "      <th>capital-gain</th>\n",
       "      <th>capital-los</th>\n",
       "      <th>hours-per-week</th>\n",
       "      <th>native-country</th>\n",
       "      <th>Income</th>\n",
       "    </tr>\n",
       "  </thead>\n",
       "  <tbody>\n",
       "    <tr>\n",
       "      <th>0</th>\n",
       "      <td>39</td>\n",
       "      <td>State-gov</td>\n",
       "      <td>77516</td>\n",
       "      <td>13</td>\n",
       "      <td>Never-married</td>\n",
       "      <td>Adm-clerical</td>\n",
       "      <td>Not-in-family</td>\n",
       "      <td>White</td>\n",
       "      <td>Male</td>\n",
       "      <td>2174</td>\n",
       "      <td>0</td>\n",
       "      <td>40</td>\n",
       "      <td>United-States</td>\n",
       "      <td>&lt;=50K</td>\n",
       "    </tr>\n",
       "    <tr>\n",
       "      <th>1</th>\n",
       "      <td>50</td>\n",
       "      <td>Self-emp-not-inc</td>\n",
       "      <td>83311</td>\n",
       "      <td>13</td>\n",
       "      <td>Married-civ-spouse</td>\n",
       "      <td>Exec-managerial</td>\n",
       "      <td>Husband</td>\n",
       "      <td>White</td>\n",
       "      <td>Male</td>\n",
       "      <td>0</td>\n",
       "      <td>0</td>\n",
       "      <td>13</td>\n",
       "      <td>United-States</td>\n",
       "      <td>&lt;=50K</td>\n",
       "    </tr>\n",
       "    <tr>\n",
       "      <th>2</th>\n",
       "      <td>38</td>\n",
       "      <td>Private</td>\n",
       "      <td>215646</td>\n",
       "      <td>9</td>\n",
       "      <td>Divorced</td>\n",
       "      <td>Handlers-cleaners</td>\n",
       "      <td>Not-in-family</td>\n",
       "      <td>White</td>\n",
       "      <td>Male</td>\n",
       "      <td>0</td>\n",
       "      <td>0</td>\n",
       "      <td>40</td>\n",
       "      <td>United-States</td>\n",
       "      <td>&lt;=50K</td>\n",
       "    </tr>\n",
       "    <tr>\n",
       "      <th>3</th>\n",
       "      <td>53</td>\n",
       "      <td>Private</td>\n",
       "      <td>234721</td>\n",
       "      <td>7</td>\n",
       "      <td>Married-civ-spouse</td>\n",
       "      <td>Handlers-cleaners</td>\n",
       "      <td>Husband</td>\n",
       "      <td>Black</td>\n",
       "      <td>Male</td>\n",
       "      <td>0</td>\n",
       "      <td>0</td>\n",
       "      <td>40</td>\n",
       "      <td>United-States</td>\n",
       "      <td>&lt;=50K</td>\n",
       "    </tr>\n",
       "    <tr>\n",
       "      <th>4</th>\n",
       "      <td>28</td>\n",
       "      <td>Private</td>\n",
       "      <td>329054</td>\n",
       "      <td>13</td>\n",
       "      <td>Married-civ-spouse</td>\n",
       "      <td>Prof-specialty</td>\n",
       "      <td>Wife</td>\n",
       "      <td>Black</td>\n",
       "      <td>Female</td>\n",
       "      <td>0</td>\n",
       "      <td>0</td>\n",
       "      <td>40</td>\n",
       "      <td>others</td>\n",
       "      <td>&lt;=50K</td>\n",
       "    </tr>\n",
       "    <tr>\n",
       "      <th>...</th>\n",
       "      <td>...</td>\n",
       "      <td>...</td>\n",
       "      <td>...</td>\n",
       "      <td>...</td>\n",
       "      <td>...</td>\n",
       "      <td>...</td>\n",
       "      <td>...</td>\n",
       "      <td>...</td>\n",
       "      <td>...</td>\n",
       "      <td>...</td>\n",
       "      <td>...</td>\n",
       "      <td>...</td>\n",
       "      <td>...</td>\n",
       "      <td>...</td>\n",
       "    </tr>\n",
       "    <tr>\n",
       "      <th>32556</th>\n",
       "      <td>27</td>\n",
       "      <td>Private</td>\n",
       "      <td>257302</td>\n",
       "      <td>12</td>\n",
       "      <td>Married-civ-spouse</td>\n",
       "      <td>Tech-support</td>\n",
       "      <td>Wife</td>\n",
       "      <td>White</td>\n",
       "      <td>Female</td>\n",
       "      <td>0</td>\n",
       "      <td>0</td>\n",
       "      <td>38</td>\n",
       "      <td>United-States</td>\n",
       "      <td>&lt;=50K</td>\n",
       "    </tr>\n",
       "    <tr>\n",
       "      <th>32557</th>\n",
       "      <td>40</td>\n",
       "      <td>Private</td>\n",
       "      <td>154374</td>\n",
       "      <td>9</td>\n",
       "      <td>Married-civ-spouse</td>\n",
       "      <td>Machine-op-inspct</td>\n",
       "      <td>Husband</td>\n",
       "      <td>White</td>\n",
       "      <td>Male</td>\n",
       "      <td>0</td>\n",
       "      <td>0</td>\n",
       "      <td>40</td>\n",
       "      <td>United-States</td>\n",
       "      <td>&gt;50K</td>\n",
       "    </tr>\n",
       "    <tr>\n",
       "      <th>32558</th>\n",
       "      <td>58</td>\n",
       "      <td>Private</td>\n",
       "      <td>151910</td>\n",
       "      <td>9</td>\n",
       "      <td>Widowed</td>\n",
       "      <td>Adm-clerical</td>\n",
       "      <td>Unmarried</td>\n",
       "      <td>White</td>\n",
       "      <td>Female</td>\n",
       "      <td>0</td>\n",
       "      <td>0</td>\n",
       "      <td>40</td>\n",
       "      <td>United-States</td>\n",
       "      <td>&lt;=50K</td>\n",
       "    </tr>\n",
       "    <tr>\n",
       "      <th>32559</th>\n",
       "      <td>22</td>\n",
       "      <td>Private</td>\n",
       "      <td>201490</td>\n",
       "      <td>9</td>\n",
       "      <td>Never-married</td>\n",
       "      <td>Adm-clerical</td>\n",
       "      <td>Own-child</td>\n",
       "      <td>White</td>\n",
       "      <td>Male</td>\n",
       "      <td>0</td>\n",
       "      <td>0</td>\n",
       "      <td>20</td>\n",
       "      <td>United-States</td>\n",
       "      <td>&lt;=50K</td>\n",
       "    </tr>\n",
       "    <tr>\n",
       "      <th>32560</th>\n",
       "      <td>52</td>\n",
       "      <td>Self-emp-inc</td>\n",
       "      <td>287927</td>\n",
       "      <td>9</td>\n",
       "      <td>Married-civ-spouse</td>\n",
       "      <td>Exec-managerial</td>\n",
       "      <td>Wife</td>\n",
       "      <td>White</td>\n",
       "      <td>Female</td>\n",
       "      <td>15024</td>\n",
       "      <td>0</td>\n",
       "      <td>40</td>\n",
       "      <td>United-States</td>\n",
       "      <td>&gt;50K</td>\n",
       "    </tr>\n",
       "  </tbody>\n",
       "</table>\n",
       "<p>32561 rows × 14 columns</p>\n",
       "</div>"
      ],
      "text/plain": [
       "       age          workclass  fnlwgt  education_status       marital-status  \\\n",
       "0       39          State-gov   77516                13        Never-married   \n",
       "1       50   Self-emp-not-inc   83311                13   Married-civ-spouse   \n",
       "2       38            Private  215646                 9             Divorced   \n",
       "3       53            Private  234721                 7   Married-civ-spouse   \n",
       "4       28            Private  329054                13   Married-civ-spouse   \n",
       "...    ...                ...     ...               ...                  ...   \n",
       "32556   27            Private  257302                12   Married-civ-spouse   \n",
       "32557   40            Private  154374                 9   Married-civ-spouse   \n",
       "32558   58            Private  151910                 9              Widowed   \n",
       "32559   22            Private  201490                 9        Never-married   \n",
       "32560   52       Self-emp-inc  287927                 9   Married-civ-spouse   \n",
       "\n",
       "               occupation    relationship    race      sex  capital-gain  \\\n",
       "0            Adm-clerical   Not-in-family   White     Male          2174   \n",
       "1         Exec-managerial         Husband   White     Male             0   \n",
       "2       Handlers-cleaners   Not-in-family   White     Male             0   \n",
       "3       Handlers-cleaners         Husband   Black     Male             0   \n",
       "4          Prof-specialty            Wife   Black   Female             0   \n",
       "...                   ...             ...     ...      ...           ...   \n",
       "32556        Tech-support            Wife   White   Female             0   \n",
       "32557   Machine-op-inspct         Husband   White     Male             0   \n",
       "32558        Adm-clerical       Unmarried   White   Female             0   \n",
       "32559        Adm-clerical       Own-child   White     Male             0   \n",
       "32560     Exec-managerial            Wife   White   Female         15024   \n",
       "\n",
       "       capital-los  hours-per-week  native-country  Income  \n",
       "0                0              40   United-States   <=50K  \n",
       "1                0              13   United-States   <=50K  \n",
       "2                0              40   United-States   <=50K  \n",
       "3                0              40   United-States   <=50K  \n",
       "4                0              40          others   <=50K  \n",
       "...            ...             ...             ...     ...  \n",
       "32556            0              38   United-States   <=50K  \n",
       "32557            0              40   United-States    >50K  \n",
       "32558            0              40   United-States   <=50K  \n",
       "32559            0              20   United-States   <=50K  \n",
       "32560            0              40   United-States    >50K  \n",
       "\n",
       "[32561 rows x 14 columns]"
      ]
     },
     "execution_count": 371,
     "metadata": {},
     "output_type": "execute_result"
    }
   ],
   "source": [
    "data_final"
   ]
  },
  {
   "cell_type": "code",
   "execution_count": 372,
   "id": "9cc4ab54",
   "metadata": {},
   "outputs": [
    {
     "data": {
      "text/html": [
       "<div>\n",
       "<style scoped>\n",
       "    .dataframe tbody tr th:only-of-type {\n",
       "        vertical-align: middle;\n",
       "    }\n",
       "\n",
       "    .dataframe tbody tr th {\n",
       "        vertical-align: top;\n",
       "    }\n",
       "\n",
       "    .dataframe thead th {\n",
       "        text-align: right;\n",
       "    }\n",
       "</style>\n",
       "<table border=\"1\" class=\"dataframe\">\n",
       "  <thead>\n",
       "    <tr style=\"text-align: right;\">\n",
       "      <th></th>\n",
       "      <th>age</th>\n",
       "      <th>workclass</th>\n",
       "      <th>fnlwgt</th>\n",
       "      <th>education_status</th>\n",
       "      <th>marital-status</th>\n",
       "      <th>occupation</th>\n",
       "      <th>relationship</th>\n",
       "      <th>race</th>\n",
       "      <th>sex</th>\n",
       "      <th>capital-gain</th>\n",
       "      <th>capital-los</th>\n",
       "      <th>hours-per-week</th>\n",
       "      <th>native-country</th>\n",
       "      <th>Income</th>\n",
       "    </tr>\n",
       "  </thead>\n",
       "  <tbody>\n",
       "    <tr>\n",
       "      <th>0</th>\n",
       "      <td>25</td>\n",
       "      <td>Private</td>\n",
       "      <td>226802</td>\n",
       "      <td>7</td>\n",
       "      <td>Never-married</td>\n",
       "      <td>Machine-op-inspct</td>\n",
       "      <td>Own-child</td>\n",
       "      <td>Black</td>\n",
       "      <td>Male</td>\n",
       "      <td>0</td>\n",
       "      <td>0</td>\n",
       "      <td>40</td>\n",
       "      <td>United-States</td>\n",
       "      <td>&lt;=50K.</td>\n",
       "    </tr>\n",
       "    <tr>\n",
       "      <th>1</th>\n",
       "      <td>38</td>\n",
       "      <td>Private</td>\n",
       "      <td>89814</td>\n",
       "      <td>9</td>\n",
       "      <td>Married-civ-spouse</td>\n",
       "      <td>Farming-fishing</td>\n",
       "      <td>Husband</td>\n",
       "      <td>White</td>\n",
       "      <td>Male</td>\n",
       "      <td>0</td>\n",
       "      <td>0</td>\n",
       "      <td>50</td>\n",
       "      <td>United-States</td>\n",
       "      <td>&lt;=50K.</td>\n",
       "    </tr>\n",
       "    <tr>\n",
       "      <th>2</th>\n",
       "      <td>28</td>\n",
       "      <td>Local-gov</td>\n",
       "      <td>327203</td>\n",
       "      <td>12</td>\n",
       "      <td>Married-civ-spouse</td>\n",
       "      <td>Protective-serv</td>\n",
       "      <td>Husband</td>\n",
       "      <td>White</td>\n",
       "      <td>Male</td>\n",
       "      <td>0</td>\n",
       "      <td>0</td>\n",
       "      <td>40</td>\n",
       "      <td>United-States</td>\n",
       "      <td>&gt;50K.</td>\n",
       "    </tr>\n",
       "    <tr>\n",
       "      <th>3</th>\n",
       "      <td>44</td>\n",
       "      <td>Private</td>\n",
       "      <td>160323</td>\n",
       "      <td>10</td>\n",
       "      <td>Married-civ-spouse</td>\n",
       "      <td>Machine-op-inspct</td>\n",
       "      <td>Husband</td>\n",
       "      <td>Black</td>\n",
       "      <td>Male</td>\n",
       "      <td>7688</td>\n",
       "      <td>0</td>\n",
       "      <td>40</td>\n",
       "      <td>United-States</td>\n",
       "      <td>&gt;50K.</td>\n",
       "    </tr>\n",
       "    <tr>\n",
       "      <th>4</th>\n",
       "      <td>18</td>\n",
       "      <td>Local-gov</td>\n",
       "      <td>103497</td>\n",
       "      <td>10</td>\n",
       "      <td>Never-married</td>\n",
       "      <td>Transport-moving</td>\n",
       "      <td>Own-child</td>\n",
       "      <td>White</td>\n",
       "      <td>Female</td>\n",
       "      <td>0</td>\n",
       "      <td>0</td>\n",
       "      <td>30</td>\n",
       "      <td>United-States</td>\n",
       "      <td>&lt;=50K.</td>\n",
       "    </tr>\n",
       "  </tbody>\n",
       "</table>\n",
       "</div>"
      ],
      "text/plain": [
       "   age   workclass  fnlwgt  education_status       marital-status  \\\n",
       "0   25     Private  226802                 7        Never-married   \n",
       "1   38     Private   89814                 9   Married-civ-spouse   \n",
       "2   28   Local-gov  327203                12   Married-civ-spouse   \n",
       "3   44     Private  160323                10   Married-civ-spouse   \n",
       "4   18   Local-gov  103497                10        Never-married   \n",
       "\n",
       "           occupation relationship    race      sex  capital-gain  \\\n",
       "0   Machine-op-inspct    Own-child   Black     Male             0   \n",
       "1     Farming-fishing      Husband   White     Male             0   \n",
       "2     Protective-serv      Husband   White     Male             0   \n",
       "3   Machine-op-inspct      Husband   Black     Male          7688   \n",
       "4    Transport-moving    Own-child   White   Female             0   \n",
       "\n",
       "   capital-los  hours-per-week  native-country   Income  \n",
       "0            0              40   United-States   <=50K.  \n",
       "1            0              50   United-States   <=50K.  \n",
       "2            0              40   United-States    >50K.  \n",
       "3            0              40   United-States    >50K.  \n",
       "4            0              30   United-States   <=50K.  "
      ]
     },
     "execution_count": 372,
     "metadata": {},
     "output_type": "execute_result"
    }
   ],
   "source": [
    "data_final_test.head()"
   ]
  },
  {
   "cell_type": "code",
   "execution_count": 373,
   "id": "b858e0bd",
   "metadata": {},
   "outputs": [],
   "source": [
    "cat_names = [features for features in data.columns if data[features].dtypes == 'O']\n",
    "cat_names_test = [features for features in test.columns if test[features].dtypes == 'O']"
   ]
  },
  {
   "cell_type": "code",
   "execution_count": 374,
   "id": "ca246fdb",
   "metadata": {},
   "outputs": [],
   "source": [
    "cat_names.remove('Income')\n",
    "cat_names_test.remove('Income')"
   ]
  },
  {
   "cell_type": "code",
   "execution_count": 375,
   "id": "7d731ed0",
   "metadata": {},
   "outputs": [
    {
     "data": {
      "text/plain": [
       "['workclass',\n",
       " 'marital-status',\n",
       " 'occupation',\n",
       " 'relationship',\n",
       " 'race',\n",
       " 'sex',\n",
       " 'native-country']"
      ]
     },
     "execution_count": 375,
     "metadata": {},
     "output_type": "execute_result"
    }
   ],
   "source": [
    "cat_names"
   ]
  },
  {
   "cell_type": "code",
   "execution_count": 376,
   "id": "fe0af32d",
   "metadata": {},
   "outputs": [
    {
     "data": {
      "text/plain": [
       "['workclass',\n",
       " 'marital-status',\n",
       " 'occupation',\n",
       " 'relationship',\n",
       " 'race',\n",
       " 'sex',\n",
       " 'native-country']"
      ]
     },
     "execution_count": 376,
     "metadata": {},
     "output_type": "execute_result"
    }
   ],
   "source": [
    "cat_names_test"
   ]
  },
  {
   "cell_type": "code",
   "execution_count": 377,
   "id": "2d0b0df7",
   "metadata": {},
   "outputs": [],
   "source": [
    "data_final = pd.get_dummies(data_final ,columns=cat_names ,  drop_first=True)\n",
    "data_final_test = pd.get_dummies(data_final_test ,columns=cat_names_test ,  drop_first=True)"
   ]
  },
  {
   "cell_type": "code",
   "execution_count": 378,
   "id": "919cf8b2",
   "metadata": {},
   "outputs": [
    {
     "data": {
      "text/plain": [
       "(32561, 45)"
      ]
     },
     "execution_count": 378,
     "metadata": {},
     "output_type": "execute_result"
    }
   ],
   "source": [
    "data_final.shape"
   ]
  },
  {
   "cell_type": "code",
   "execution_count": 379,
   "id": "25d693dc",
   "metadata": {},
   "outputs": [
    {
     "data": {
      "text/plain": [
       "(16281, 45)"
      ]
     },
     "execution_count": 379,
     "metadata": {},
     "output_type": "execute_result"
    }
   ],
   "source": [
    "data_final_test.shape"
   ]
  },
  {
   "cell_type": "code",
   "execution_count": 380,
   "id": "b7c5b75c",
   "metadata": {},
   "outputs": [],
   "source": [
    "data_final[\"Income\"]=data_final[\"Income\"].map({\" <=50K\":0,\" >50K\":1})\n",
    "data_final_test[\"Income\"]=data_final_test[\"Income\"].map({\" <=50K.\":0,\" >50K.\":1})"
   ]
  },
  {
   "cell_type": "code",
   "execution_count": 381,
   "id": "61b6b312",
   "metadata": {},
   "outputs": [],
   "source": [
    "data_final['Capital_Diff'] = data_final['capital-gain'] - data_final['capital-los']\n",
    "data_final.drop(['capital-gain'], axis = 1, inplace = True)\n",
    "data_final.drop(['capital-los'], axis = 1, inplace = True)"
   ]
  },
  {
   "cell_type": "code",
   "execution_count": 382,
   "id": "951ef9e6",
   "metadata": {},
   "outputs": [],
   "source": [
    "data_final_test['Capital_Diff'] = data_final_test['capital-gain'] - data_final_test['capital-los']\n",
    "data_final_test.drop(['capital-gain'], axis = 1, inplace = True)\n",
    "data_final_test.drop(['capital-los'], axis = 1, inplace = True)"
   ]
  },
  {
   "cell_type": "code",
   "execution_count": 383,
   "id": "f4295ed9",
   "metadata": {},
   "outputs": [],
   "source": [
    "cnames1=['age' ,'fnlwgt' , 'hours-per-week','Income','Capital_Diff' ]"
   ]
  },
  {
   "cell_type": "code",
   "execution_count": 384,
   "id": "22eb8f71",
   "metadata": {
    "scrolled": true
   },
   "outputs": [
    {
     "data": {
      "image/png": "[encoded data removed]",
      "text/plain": [
       "<Figure size 1080x1080 with 5 Axes>"
      ]
     },
     "metadata": {
      "needs_background": "light"
     },
     "output_type": "display_data"
    }
   ],
   "source": [
    "plt.figure(figsize=(15,15))\n",
    "for i in enumerate(cnames1):\n",
    "    plt.subplot(3,2,i[0]+1)\n",
    "    sb.kdeplot(data_final[i[1]], fill= True , legend = True)\n",
    "plt.show()"
   ]
  },
  {
   "cell_type": "markdown",
   "id": "59a8fef1",
   "metadata": {},
   "source": [
    "# SCALING"
   ]
  },
  {
   "cell_type": "code",
   "execution_count": 385,
   "id": "dc36ccdd",
   "metadata": {},
   "outputs": [],
   "source": [
    "data_std_scl = data_final.copy()\n",
    "data_std_sl_test = data_final_test.copy()"
   ]
  },
  {
   "cell_type": "code",
   "execution_count": 386,
   "id": "7145b8b2",
   "metadata": {},
   "outputs": [],
   "source": [
    "cnames2=['age' ,'fnlwgt' , 'hours-per-week','Capital_Diff' ]"
   ]
  },
  {
   "cell_type": "code",
   "execution_count": 387,
   "id": "ac003e91",
   "metadata": {},
   "outputs": [],
   "source": [
    "for i in cnames2:\n",
    "    scale = StandardScaler().fit(data_std_scl[[i]])\n",
    "    data_std_scl[i]=scale.transform(data_std_scl[[i]]) "
   ]
  },
  {
   "cell_type": "code",
   "execution_count": 388,
   "id": "498d118a",
   "metadata": {},
   "outputs": [],
   "source": [
    "for i in cnames2:\n",
    "    scale = StandardScaler().fit(data_std_sl_test[[i]])\n",
    "    data_std_sl_test[i]=scale.transform(data_std_sl_test[[i]]) "
   ]
  },
  {
   "cell_type": "code",
   "execution_count": 393,
   "id": "2ab61fb5",
   "metadata": {
    "scrolled": true
   },
   "outputs": [
    {
     "data": {
      "image/png": "[encoded data removed]",
      "text/plain": [
       "<Figure size 1080x1080 with 4 Axes>"
      ]
     },
     "metadata": {
      "needs_background": "light"
     },
     "output_type": "display_data"
    }
   ],
   "source": [
    "plt.figure(figsize=(15,15))\n",
    "for i in enumerate(cnames2):\n",
    "    plt.subplot(3,2,i[0]+1)\n",
    "    sb.kdeplot(data_std_scl[i[1]], fill= True , legend = True)\n",
    "plt.show()"
   ]
  },
  {
   "cell_type": "code",
   "execution_count": 390,
   "id": "b0140b63",
   "metadata": {},
   "outputs": [
    {
     "data": {
      "text/plain": [
       "((32561, 44), (16281, 44))"
      ]
     },
     "execution_count": 390,
     "metadata": {},
     "output_type": "execute_result"
    }
   ],
   "source": [
    "data_std_scl.shape ,data_std_sl_test.shape"
   ]
  },
  {
   "cell_type": "code",
   "execution_count": 391,
   "id": "3c6b46ac",
   "metadata": {},
   "outputs": [],
   "source": [
    "data_final.to_csv(\"data_final.csv\" ,index=False)\n",
    "data_std_scl.to_csv(\"data_std_scale.csv\" , index = False)\n",
    "data_std_sl_test.to_csv(\"data_std_scale_test.csv\" , index = False)"
   ]
  },
  {
   "cell_type": "code",
   "execution_count": null,
   "id": "d135e228",
   "metadata": {},
   "outputs": [],
   "source": []
  }
 ],
 "metadata": {
  "kernelspec": {
   "display_name": "Python 3",
   "language": "python",
   "name": "python3"
  },
  "language_info": {
   "codemirror_mode": {
    "name": "ipython",
    "version": 3
   },
   "file_extension": ".py",
   "mimetype": "text/x-python",
   "name": "python",
   "nbconvert_exporter": "python",
   "pygments_lexer": "ipython3",
   "version": "3.8.8"
  }
 },
 "nbformat": 4,
 "nbformat_minor": 5
}
