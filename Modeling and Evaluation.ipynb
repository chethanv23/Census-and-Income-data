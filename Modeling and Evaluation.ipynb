{
 "cells": [
  {
   "cell_type": "markdown",
   "id": "30d4c8a2",
   "metadata": {},
   "source": [
    "# Modeling and Evaluation"
   ]
  },
  {
   "cell_type": "code",
   "execution_count": 52,
   "id": "7da031b7",
   "metadata": {},
   "outputs": [
    {
     "name": "stdout",
     "output_type": "stream",
     "text": [
      "Collecting imblearn\n",
      "  Downloading imblearn-0.0-py2.py3-none-any.whl (1.9 kB)\n",
      "Collecting imbalanced-learn\n",
      "  Downloading imbalanced_learn-0.8.0-py3-none-any.whl (206 kB)\n",
      "Requirement already satisfied: scipy>=0.19.1 in c:\\users\\kumarvch\\anaconda3\\lib\\site-packages (from imbalanced-learn->imblearn) (1.6.2)\n",
      "Requirement already satisfied: joblib>=0.11 in c:\\users\\kumarvch\\anaconda3\\lib\\site-packages (from imbalanced-learn->imblearn) (1.0.1)\n",
      "Requirement already satisfied: scikit-learn>=0.24 in c:\\users\\kumarvch\\anaconda3\\lib\\site-packages (from imbalanced-learn->imblearn) (0.24.1)\n",
      "Requirement already satisfied: numpy>=1.13.3 in c:\\users\\kumarvch\\anaconda3\\lib\\site-packages (from imbalanced-learn->imblearn) (1.19.5)\n",
      "Requirement already satisfied: threadpoolctl>=2.0.0 in c:\\users\\kumarvch\\anaconda3\\lib\\site-packages (from scikit-learn>=0.24->imbalanced-learn->imblearn) (2.1.0)\n",
      "Installing collected packages: imbalanced-learn, imblearn\n",
      "Successfully installed imbalanced-learn-0.8.0 imblearn-0.0\n",
      "Note: you may need to restart the kernel to use updated packages.\n"
     ]
    }
   ],
   "source": [
    "pip install imblearn"
   ]
  },
  {
   "cell_type": "code",
   "execution_count": 64,
   "id": "f2516092",
   "metadata": {},
   "outputs": [],
   "source": [
    "import pandas as pd\n",
    "import matplotlib.pyplot as plt\n",
    "import seaborn as sb\n",
    "import numpy as np\n",
    "import os\n",
    "from statsmodels.stats.outliers_influence import variance_inflation_factor\n",
    "from scipy.stats import chi2_contingency\n",
    "from imblearn.over_sampling import SMOTE\n",
    "from collections import Counter\n",
    "\n",
    "from sklearn.linear_model import LogisticRegression\n",
    "from sklearn.tree import DecisionTreeClassifier\n",
    "from sklearn.ensemble import RandomForestClassifier\n",
    "from sklearn.metrics import accuracy_score, f1_score, precision_score, recall_score\n",
    "from sklearn.metrics import confusion_matrix, roc_auc_score, roc_curve, classification_report, precision_recall_curve\n",
    "from sklearn.model_selection import train_test_split, cross_val_score, StratifiedKFold, GridSearchCV, RandomizedSearchCV"
   ]
  },
  {
   "cell_type": "code",
   "execution_count": 74,
   "id": "48a8b638",
   "metadata": {},
   "outputs": [],
   "source": [
    "os.chdir(\"C:\\\\Users\\\\kumarvch\\\\OneDrive - HP Inc\\\\census_income_casestudy\")"
   ]
  },
  {
   "cell_type": "code",
   "execution_count": 77,
   "id": "c8a85b0c",
   "metadata": {},
   "outputs": [],
   "source": [
    "Train = pd.read_csv(\"data_std_scale.csv\")\n",
    "test = pd.read_csv(\"data_std_scale_test.csv\")"
   ]
  },
  {
   "cell_type": "code",
   "execution_count": 80,
   "id": "07d00b66",
   "metadata": {},
   "outputs": [
    {
     "data": {
      "text/plain": [
       "((32561, 44), (16281, 44))"
      ]
     },
     "execution_count": 80,
     "metadata": {},
     "output_type": "execute_result"
    }
   ],
   "source": [
    "Train.shape , test.shape"
   ]
  },
  {
   "cell_type": "code",
   "execution_count": 81,
   "id": "1914b23a",
   "metadata": {},
   "outputs": [],
   "source": [
    "Train_X = Train.drop(['Income'] , axis=1)\n",
    "Train_Y = Train['Income']"
   ]
  },
  {
   "cell_type": "code",
   "execution_count": 82,
   "id": "e23893a9",
   "metadata": {},
   "outputs": [],
   "source": [
    "test_x = test.drop(['Income'], axis=1)\n",
    "test_y = test['Income']"
   ]
  },
  {
   "cell_type": "code",
   "execution_count": 83,
   "id": "32fe0ff2",
   "metadata": {},
   "outputs": [
    {
     "data": {
      "text/plain": [
       "((32561, 43), (32561,), (16281, 43), (16281,))"
      ]
     },
     "execution_count": 83,
     "metadata": {},
     "output_type": "execute_result"
    }
   ],
   "source": [
    "Train_X.shape , Train_Y.shape , test_x.shape , test_y.shape"
   ]
  },
  {
   "cell_type": "code",
   "execution_count": 84,
   "id": "4754fb2d",
   "metadata": {},
   "outputs": [
    {
     "data": {
      "text/plain": [
       "0    0.75919\n",
       "1    0.24081\n",
       "Name: Income, dtype: float64"
      ]
     },
     "execution_count": 84,
     "metadata": {},
     "output_type": "execute_result"
    },
    {
     "data": {
      "image/png": "[encoded data removed]",
      "text/plain": [
       "<Figure size 432x288 with 1 Axes>"
      ]
     },
     "metadata": {
      "needs_background": "light"
     },
     "output_type": "display_data"
    }
   ],
   "source": [
    "Train.Income.value_counts().plot(kind = 'bar')\n",
    "Train.Income.value_counts(normalize=True)"
   ]
  },
  {
   "cell_type": "markdown",
   "id": "1a497c0d",
   "metadata": {},
   "source": [
    "## Target class Imbalance"
   ]
  },
  {
   "cell_type": "markdown",
   "id": "d496c2d0",
   "metadata": {},
   "source": [
    "A) SMOTE Technique"
   ]
  },
  {
   "cell_type": "code",
   "execution_count": 85,
   "id": "77159dc9",
   "metadata": {},
   "outputs": [
    {
     "name": "stdout",
     "output_type": "stream",
     "text": [
      "Before Counter({0: 24720, 1: 7841})\n",
      "After Counter({0: 24720, 1: 24720})\n"
     ]
    }
   ],
   "source": [
    "counter = Counter(Train_Y)\n",
    "print('Before',counter)\n",
    "# oversampling the train dataset using SMOTE\n",
    "smt = SMOTE()\n",
    "#X_train, y_train = smt.fit_resample(X_train, y_train)\n",
    "X_train_sm, y_train_sm = smt.fit_resample(Train_X, Train_Y)\n",
    "\n",
    "counter = Counter(y_train_sm)\n",
    "print('After',counter)"
   ]
  },
  {
   "cell_type": "markdown",
   "id": "4a69846d",
   "metadata": {},
   "source": [
    "B) SMOTE + Tomek Links"
   ]
  },
  {
   "cell_type": "code",
   "execution_count": 57,
   "id": "770b35f9",
   "metadata": {},
   "outputs": [
    {
     "name": "stdout",
     "output_type": "stream",
     "text": [
      "Before Counter({0: 24720, 1: 7841})\n",
      "After Counter({0: 24134, 1: 24134})\n"
     ]
    }
   ],
   "source": [
    "from imblearn.combine import SMOTETomek\n",
    "\n",
    "counter = Counter(Train_Y)\n",
    "print('Before',counter)\n",
    "# oversampling the train dataset using SMOTE + Tomek\n",
    "smtom = SMOTETomek(random_state=139)\n",
    "X_train_smtom, y_train_smtom = smtom.fit_resample(Train_X, Train_Y)\n",
    "\n",
    "counter = Counter(y_train_smtom)\n",
    "print('After',counter)"
   ]
  },
  {
   "cell_type": "markdown",
   "id": "fc244ed2",
   "metadata": {},
   "source": [
    "# Model Building"
   ]
  },
  {
   "cell_type": "code",
   "execution_count": 86,
   "id": "908eef0a",
   "metadata": {},
   "outputs": [],
   "source": [
    "model = list()\n",
    "resample = list()\n",
    "precision = list()\n",
    "recall = list()\n",
    "F1score = list()\n",
    "AUCROC = list()"
   ]
  },
  {
   "cell_type": "code",
   "execution_count": 87,
   "id": "44783d2d",
   "metadata": {},
   "outputs": [],
   "source": [
    "def test_eval(clf_model, X_test, y_test, algo=None, sampling=None):\n",
    "    # Test set prediction\n",
    "    y_prob=clf_model.predict_proba(X_test)\n",
    "    y_pred=clf_model.predict(X_test)\n",
    "\n",
    "    print('Confusion Matrix')\n",
    "    print('='*60)\n",
    "    print(confusion_matrix(y_test,y_pred),\"\\n\")\n",
    "    print('Classification Report')\n",
    "    print('='*60)\n",
    "    print(classification_report(y_test,y_pred),\"\\n\")\n",
    "    print('AUC-ROC')\n",
    "    print('='*60)\n",
    "    print(roc_auc_score(y_test, y_prob[:,1]))\n",
    "          \n",
    "    model.append(algo)\n",
    "    precision.append(precision_score(y_test,y_pred))\n",
    "    recall.append(recall_score(y_test,y_pred))\n",
    "    F1score.append(f1_score(y_test,y_pred))\n",
    "    AUCROC.append(roc_auc_score(y_test, y_prob[:,1]))\n",
    "    resample.append(sampling)"
   ]
  },
  {
   "cell_type": "markdown",
   "id": "f138b380",
   "metadata": {},
   "source": [
    "## Model_1: Logistic Regression\n",
    "    \n",
    "#### unsampled Data"
   ]
  },
  {
   "cell_type": "code",
   "execution_count": 66,
   "id": "91880351",
   "metadata": {},
   "outputs": [
    {
     "name": "stderr",
     "output_type": "stream",
     "text": [
      "C:\\Users\\kumarvch\\Anaconda3\\lib\\site-packages\\sklearn\\model_selection\\_search.py:918: UserWarning: One or more of the test scores are non-finite: [       nan 0.7977675         nan 0.79779907        nan 0.79783036\n",
      "        nan 0.79781411        nan 0.7978827         nan 0.7978997\n",
      "        nan 0.79783255        nan 0.79782345        nan 0.79793966\n",
      "        nan 0.79797577        nan 0.79862557        nan 0.79889428\n",
      "        nan 0.80248058        nan 0.80394196        nan 0.81735926\n",
      "        nan 0.82238147        nan 0.85519694        nan 0.86427556\n",
      "        nan 0.88726164        nan 0.88904993        nan 0.89739929\n",
      "        nan 0.8975947         nan 0.90017448        nan 0.90012769\n",
      "        nan 0.9004523         nan 0.90040426        nan 0.90044054\n",
      "        nan 0.90041889        nan 0.900383          nan 0.90041892]\n",
      "  warnings.warn(\n",
      "C:\\Users\\kumarvch\\Anaconda3\\lib\\site-packages\\sklearn\\linear_model\\_logistic.py:763: ConvergenceWarning: lbfgs failed to converge (status=1):\n",
      "STOP: TOTAL NO. of ITERATIONS REACHED LIMIT.\n",
      "\n",
      "Increase the number of iterations (max_iter) or scale the data as shown in:\n",
      "    https://scikit-learn.org/stable/modules/preprocessing.html\n",
      "Please also refer to the documentation for alternative solver options:\n",
      "    https://scikit-learn.org/stable/modules/linear_model.html#logistic-regression\n",
      "  n_iter_i = _check_optimize_result(\n"
     ]
    },
    {
     "data": {
      "text/plain": [
       "LogisticRegression(C=0.26826957952797276)"
      ]
     },
     "execution_count": 66,
     "metadata": {},
     "output_type": "execute_result"
    }
   ],
   "source": [
    "log_model=LogisticRegression()\n",
    "\n",
    "params={'C':np.logspace(-10, 1, 15),'class_weight':[None,'balanced'],'penalty':['l1','l2']}\n",
    "\n",
    "cv = StratifiedKFold(n_splits=5, random_state=100, shuffle=True)\n",
    "\n",
    "# Create grid search using 5-fold cross validation\n",
    "clf_LR = GridSearchCV(log_model,params, cv=cv, scoring='roc_auc', n_jobs=-1)\n",
    "clf_LR.fit(Train_X, Train_Y)\n",
    "clf_LR.best_estimator_"
   ]
  },
  {
   "cell_type": "code",
   "execution_count": 88,
   "id": "90f65de3",
   "metadata": {
    "scrolled": true
   },
   "outputs": [
    {
     "name": "stdout",
     "output_type": "stream",
     "text": [
      "Confusion Matrix\n",
      "============================================================\n",
      "[[11534   901]\n",
      " [ 1601  2245]] \n",
      "\n",
      "Classification Report\n",
      "============================================================\n",
      "              precision    recall  f1-score   support\n",
      "\n",
      "           0       0.88      0.93      0.90     12435\n",
      "           1       0.71      0.58      0.64      3846\n",
      "\n",
      "    accuracy                           0.85     16281\n",
      "   macro avg       0.80      0.76      0.77     16281\n",
      "weighted avg       0.84      0.85      0.84     16281\n",
      " \n",
      "\n",
      "AUC-ROC\n",
      "============================================================\n",
      "0.8992446629911839\n"
     ]
    }
   ],
   "source": [
    "test_eval(clf_LR, test_x, test_y, 'Logistic Regression', 'actual')"
   ]
  },
  {
   "cell_type": "markdown",
   "id": "2e001fc2",
   "metadata": {},
   "source": [
    "####  SMOTE Data"
   ]
  },
  {
   "cell_type": "code",
   "execution_count": 89,
   "id": "1d772db4",
   "metadata": {},
   "outputs": [
    {
     "name": "stderr",
     "output_type": "stream",
     "text": [
      "C:\\Users\\kumarvch\\Anaconda3\\lib\\site-packages\\sklearn\\model_selection\\_search.py:918: UserWarning: One or more of the test scores are non-finite: [       nan 0.79480057        nan 0.79480057        nan 0.79482409\n",
      "        nan 0.79482409        nan 0.79496545        nan 0.79496545\n",
      "        nan 0.7948441         nan 0.7948441         nan 0.79508853\n",
      "        nan 0.79508853        nan 0.7965622         nan 0.7965622\n",
      "        nan 0.80398513        nan 0.80398513        nan 0.82856607\n",
      "        nan 0.82856607        nan 0.87361757        nan 0.87361757\n",
      "        nan 0.89342694        nan 0.89342694        nan 0.90411341\n",
      "        nan 0.90411341        nan 0.91116184        nan 0.91116184\n",
      "        nan 0.91364494        nan 0.91364494        nan 0.91417455\n",
      "        nan 0.91417455        nan 0.91402031        nan 0.91402031]\n",
      "  warnings.warn(\n",
      "C:\\Users\\kumarvch\\Anaconda3\\lib\\site-packages\\sklearn\\linear_model\\_logistic.py:763: ConvergenceWarning: lbfgs failed to converge (status=1):\n",
      "STOP: TOTAL NO. of ITERATIONS REACHED LIMIT.\n",
      "\n",
      "Increase the number of iterations (max_iter) or scale the data as shown in:\n",
      "    https://scikit-learn.org/stable/modules/preprocessing.html\n",
      "Please also refer to the documentation for alternative solver options:\n",
      "    https://scikit-learn.org/stable/modules/linear_model.html#logistic-regression\n",
      "  n_iter_i = _check_optimize_result(\n"
     ]
    },
    {
     "data": {
      "text/plain": [
       "LogisticRegression(C=1.6378937069540613)"
      ]
     },
     "execution_count": 89,
     "metadata": {},
     "output_type": "execute_result"
    }
   ],
   "source": [
    "clf_LR.fit(X_train_sm, y_train_sm)\n",
    "clf_LR.best_estimator_"
   ]
  },
  {
   "cell_type": "code",
   "execution_count": 90,
   "id": "0496faa4",
   "metadata": {},
   "outputs": [
    {
     "name": "stdout",
     "output_type": "stream",
     "text": [
      "Confusion Matrix\n",
      "============================================================\n",
      "[[10046  2389]\n",
      " [  723  3123]] \n",
      "\n",
      "Classification Report\n",
      "============================================================\n",
      "              precision    recall  f1-score   support\n",
      "\n",
      "           0       0.93      0.81      0.87     12435\n",
      "           1       0.57      0.81      0.67      3846\n",
      "\n",
      "    accuracy                           0.81     16281\n",
      "   macro avg       0.75      0.81      0.77     16281\n",
      "weighted avg       0.85      0.81      0.82     16281\n",
      " \n",
      "\n",
      "AUC-ROC\n",
      "============================================================\n",
      "0.8925145441684174\n"
     ]
    }
   ],
   "source": [
    "test_eval(clf_LR, test_x, test_y, 'Logistic Regression', 'smote')"
   ]
  },
  {
   "cell_type": "markdown",
   "id": "fd9a567d",
   "metadata": {},
   "source": [
    "#### SMOTE + Tomek Links data"
   ]
  },
  {
   "cell_type": "code",
   "execution_count": 91,
   "id": "23d11028",
   "metadata": {},
   "outputs": [
    {
     "name": "stderr",
     "output_type": "stream",
     "text": [
      "C:\\Users\\kumarvch\\Anaconda3\\lib\\site-packages\\sklearn\\model_selection\\_search.py:918: UserWarning: One or more of the test scores are non-finite: [       nan 0.80178633        nan 0.80178684        nan 0.80180868\n",
      "        nan 0.80180879        nan 0.80194676        nan 0.80194679\n",
      "        nan 0.80182818        nan 0.80182815        nan 0.80206527\n",
      "        nan 0.80206529        nan 0.80351403        nan 0.80351411\n",
      "        nan 0.8107606         nan 0.81076051        nan 0.83483523\n",
      "        nan 0.83483523        nan 0.87986477        nan 0.87986475\n",
      "        nan 0.90019264        nan 0.90019252        nan 0.91083994\n",
      "        nan 0.9108403         nan 0.91786886        nan 0.91783377\n",
      "        nan 0.92038868        nan 0.92030539        nan 0.92062832\n",
      "        nan 0.92068532        nan 0.9207094         nan 0.92079426]\n",
      "  warnings.warn(\n",
      "C:\\Users\\kumarvch\\Anaconda3\\lib\\site-packages\\sklearn\\linear_model\\_logistic.py:763: ConvergenceWarning: lbfgs failed to converge (status=1):\n",
      "STOP: TOTAL NO. of ITERATIONS REACHED LIMIT.\n",
      "\n",
      "Increase the number of iterations (max_iter) or scale the data as shown in:\n",
      "    https://scikit-learn.org/stable/modules/preprocessing.html\n",
      "Please also refer to the documentation for alternative solver options:\n",
      "    https://scikit-learn.org/stable/modules/linear_model.html#logistic-regression\n",
      "  n_iter_i = _check_optimize_result(\n"
     ]
    },
    {
     "data": {
      "text/plain": [
       "LogisticRegression(C=10.0, class_weight='balanced')"
      ]
     },
     "execution_count": 91,
     "metadata": {},
     "output_type": "execute_result"
    }
   ],
   "source": [
    "clf_LR.fit(X_train_smtom, y_train_smtom)\n",
    "clf_LR.best_estimator_"
   ]
  },
  {
   "cell_type": "code",
   "execution_count": 92,
   "id": "0aa25e18",
   "metadata": {},
   "outputs": [
    {
     "name": "stdout",
     "output_type": "stream",
     "text": [
      "Confusion Matrix\n",
      "============================================================\n",
      "[[10074  2361]\n",
      " [  728  3118]] \n",
      "\n",
      "Classification Report\n",
      "============================================================\n",
      "              precision    recall  f1-score   support\n",
      "\n",
      "           0       0.93      0.81      0.87     12435\n",
      "           1       0.57      0.81      0.67      3846\n",
      "\n",
      "    accuracy                           0.81     16281\n",
      "   macro avg       0.75      0.81      0.77     16281\n",
      "weighted avg       0.85      0.81      0.82     16281\n",
      " \n",
      "\n",
      "AUC-ROC\n",
      "============================================================\n",
      "0.8927556523250073\n"
     ]
    }
   ],
   "source": [
    "test_eval(clf_LR, test_x, test_y, 'Logistic Regression', 'smote+tomek')"
   ]
  },
  {
   "cell_type": "markdown",
   "id": "1983ead8",
   "metadata": {},
   "source": [
    "# Model 2 : Decision Tree"
   ]
  },
  {
   "cell_type": "code",
   "execution_count": 93,
   "id": "74320ef6",
   "metadata": {},
   "outputs": [],
   "source": [
    "estimators = [2,10,30,50,100]\n",
    "# Maximum number of depth in each tree:\n",
    "max_depth = [i for i in range(5,16,2)]\n",
    "# Minimum number of samples to consider to split a node:\n",
    "min_samples_split = [2, 5, 10, 15, 20, 50, 100]\n",
    "# Minimum number of samples to consider at each leaf node:\n",
    "min_samples_leaf = [1, 2, 5]"
   ]
  },
  {
   "cell_type": "markdown",
   "id": "6fca1ea0",
   "metadata": {},
   "source": [
    "#### Unsampled Data"
   ]
  },
  {
   "cell_type": "code",
   "execution_count": 94,
   "id": "4997f36e",
   "metadata": {},
   "outputs": [
    {
     "name": "stdout",
     "output_type": "stream",
     "text": [
      "Fitting 5 folds for each of 10 candidates, totalling 50 fits\n"
     ]
    },
    {
     "data": {
      "text/plain": [
       "DecisionTreeClassifier(max_depth=9, min_samples_leaf=2, min_samples_split=50)"
      ]
     },
     "execution_count": 94,
     "metadata": {},
     "output_type": "execute_result"
    }
   ],
   "source": [
    "tree_model = DecisionTreeClassifier()\n",
    "\n",
    "tree_param_grid = { \n",
    "    'max_depth': max_depth,\n",
    "    'min_samples_split': min_samples_split,\n",
    "    'min_samples_leaf': min_samples_leaf\n",
    "}\n",
    "\n",
    "clf_DT = RandomizedSearchCV(tree_model, tree_param_grid, cv=cv, scoring='roc_auc', n_jobs=-1, verbose=2)\n",
    "clf_DT.fit(Train_X, Train_Y)\n",
    "clf_DT.best_estimator_"
   ]
  },
  {
   "cell_type": "code",
   "execution_count": 95,
   "id": "190dbe77",
   "metadata": {},
   "outputs": [
    {
     "name": "stdout",
     "output_type": "stream",
     "text": [
      "Confusion Matrix\n",
      "============================================================\n",
      "[[11853   582]\n",
      " [ 1840  2006]] \n",
      "\n",
      "Classification Report\n",
      "============================================================\n",
      "              precision    recall  f1-score   support\n",
      "\n",
      "           0       0.87      0.95      0.91     12435\n",
      "           1       0.78      0.52      0.62      3846\n",
      "\n",
      "    accuracy                           0.85     16281\n",
      "   macro avg       0.82      0.74      0.77     16281\n",
      "weighted avg       0.84      0.85      0.84     16281\n",
      " \n",
      "\n",
      "AUC-ROC\n",
      "============================================================\n",
      "0.9001613277237162\n"
     ]
    }
   ],
   "source": [
    "test_eval(clf_DT, test_x, test_y, 'Decision Tree', 'actual')"
   ]
  },
  {
   "cell_type": "markdown",
   "id": "b767bca9",
   "metadata": {},
   "source": [
    "#### SMOTE Data"
   ]
  },
  {
   "cell_type": "code",
   "execution_count": 97,
   "id": "d445de0e",
   "metadata": {},
   "outputs": [
    {
     "name": "stdout",
     "output_type": "stream",
     "text": [
      "Fitting 5 folds for each of 10 candidates, totalling 50 fits\n"
     ]
    },
    {
     "data": {
      "text/plain": [
       "DecisionTreeClassifier(max_depth=15, min_samples_leaf=5, min_samples_split=20)"
      ]
     },
     "execution_count": 97,
     "metadata": {},
     "output_type": "execute_result"
    }
   ],
   "source": [
    "clf_DT.fit(X_train_sm, y_train_sm)\n",
    "clf_DT.best_estimator_"
   ]
  },
  {
   "cell_type": "code",
   "execution_count": 98,
   "id": "7593b8ea",
   "metadata": {},
   "outputs": [
    {
     "name": "stdout",
     "output_type": "stream",
     "text": [
      "Confusion Matrix\n",
      "============================================================\n",
      "[[6494 5941]\n",
      " [ 442 3404]] \n",
      "\n",
      "Classification Report\n",
      "============================================================\n",
      "              precision    recall  f1-score   support\n",
      "\n",
      "           0       0.94      0.52      0.67     12435\n",
      "           1       0.36      0.89      0.52      3846\n",
      "\n",
      "    accuracy                           0.61     16281\n",
      "   macro avg       0.65      0.70      0.59     16281\n",
      "weighted avg       0.80      0.61      0.63     16281\n",
      " \n",
      "\n",
      "AUC-ROC\n",
      "============================================================\n",
      "0.6882818529468159\n"
     ]
    }
   ],
   "source": [
    "test_eval(clf_DT, test_x, test_y, 'Decision Tree', 'smote')"
   ]
  },
  {
   "cell_type": "code",
   "execution_count": 99,
   "id": "332cb023",
   "metadata": {},
   "outputs": [
    {
     "name": "stdout",
     "output_type": "stream",
     "text": [
      "Fitting 5 folds for each of 10 candidates, totalling 50 fits\n"
     ]
    },
    {
     "data": {
      "text/plain": [
       "DecisionTreeClassifier(max_depth=13, min_samples_leaf=5, min_samples_split=100)"
      ]
     },
     "execution_count": 99,
     "metadata": {},
     "output_type": "execute_result"
    }
   ],
   "source": [
    "clf_DT.fit(X_train_smtom, y_train_smtom)\n",
    "clf_DT.best_estimator_"
   ]
  },
  {
   "cell_type": "code",
   "execution_count": 100,
   "id": "e3f072b3",
   "metadata": {
    "scrolled": true
   },
   "outputs": [
    {
     "name": "stdout",
     "output_type": "stream",
     "text": [
      "Confusion Matrix\n",
      "============================================================\n",
      "[[7486 4949]\n",
      " [ 418 3428]] \n",
      "\n",
      "Classification Report\n",
      "============================================================\n",
      "              precision    recall  f1-score   support\n",
      "\n",
      "           0       0.95      0.60      0.74     12435\n",
      "           1       0.41      0.89      0.56      3846\n",
      "\n",
      "    accuracy                           0.67     16281\n",
      "   macro avg       0.68      0.75      0.65     16281\n",
      "weighted avg       0.82      0.67      0.69     16281\n",
      " \n",
      "\n",
      "AUC-ROC\n",
      "============================================================\n",
      "0.8110748643858099\n"
     ]
    }
   ],
   "source": [
    "test_eval(clf_DT,test_x, test_y, 'Decision Tree', 'smote+tomek')"
   ]
  },
  {
   "cell_type": "code",
   "execution_count": 101,
   "id": "e6d72e93",
   "metadata": {},
   "outputs": [],
   "source": [
    "clf_eval_df = pd.DataFrame({'model':model,\n",
    "                            'resample':resample,\n",
    "                            'precision':precision,\n",
    "                            'recall':recall,\n",
    "                            'f1-score':F1score,\n",
    "                            'AUC-ROC':AUCROC})"
   ]
  },
  {
   "cell_type": "code",
   "execution_count": 102,
   "id": "d4032bb3",
   "metadata": {
    "scrolled": true
   },
   "outputs": [
    {
     "data": {
      "text/html": [
       "<div>\n",
       "<style scoped>\n",
       "    .dataframe tbody tr th:only-of-type {\n",
       "        vertical-align: middle;\n",
       "    }\n",
       "\n",
       "    .dataframe tbody tr th {\n",
       "        vertical-align: top;\n",
       "    }\n",
       "\n",
       "    .dataframe thead th {\n",
       "        text-align: right;\n",
       "    }\n",
       "</style>\n",
       "<table border=\"1\" class=\"dataframe\">\n",
       "  <thead>\n",
       "    <tr style=\"text-align: right;\">\n",
       "      <th></th>\n",
       "      <th>model</th>\n",
       "      <th>resample</th>\n",
       "      <th>precision</th>\n",
       "      <th>recall</th>\n",
       "      <th>f1-score</th>\n",
       "      <th>AUC-ROC</th>\n",
       "    </tr>\n",
       "  </thead>\n",
       "  <tbody>\n",
       "    <tr>\n",
       "      <th>0</th>\n",
       "      <td>Logistic Regression</td>\n",
       "      <td>actual</td>\n",
       "      <td>0.713605</td>\n",
       "      <td>0.583723</td>\n",
       "      <td>0.642162</td>\n",
       "      <td>0.899245</td>\n",
       "    </tr>\n",
       "    <tr>\n",
       "      <th>1</th>\n",
       "      <td>Logistic Regression</td>\n",
       "      <td>smote</td>\n",
       "      <td>0.566582</td>\n",
       "      <td>0.812012</td>\n",
       "      <td>0.667450</td>\n",
       "      <td>0.892515</td>\n",
       "    </tr>\n",
       "    <tr>\n",
       "      <th>2</th>\n",
       "      <td>Logistic Regression</td>\n",
       "      <td>smote+tomek</td>\n",
       "      <td>0.569082</td>\n",
       "      <td>0.810712</td>\n",
       "      <td>0.668740</td>\n",
       "      <td>0.892756</td>\n",
       "    </tr>\n",
       "    <tr>\n",
       "      <th>3</th>\n",
       "      <td>Decision Tree</td>\n",
       "      <td>actual</td>\n",
       "      <td>0.775116</td>\n",
       "      <td>0.521581</td>\n",
       "      <td>0.623562</td>\n",
       "      <td>0.900161</td>\n",
       "    </tr>\n",
       "    <tr>\n",
       "      <th>4</th>\n",
       "      <td>Decision Tree</td>\n",
       "      <td>smote</td>\n",
       "      <td>0.364259</td>\n",
       "      <td>0.885075</td>\n",
       "      <td>0.516109</td>\n",
       "      <td>0.688282</td>\n",
       "    </tr>\n",
       "    <tr>\n",
       "      <th>5</th>\n",
       "      <td>Decision Tree</td>\n",
       "      <td>smote+tomek</td>\n",
       "      <td>0.409216</td>\n",
       "      <td>0.891316</td>\n",
       "      <td>0.560910</td>\n",
       "      <td>0.811075</td>\n",
       "    </tr>\n",
       "  </tbody>\n",
       "</table>\n",
       "</div>"
      ],
      "text/plain": [
       "                 model     resample  precision    recall  f1-score   AUC-ROC\n",
       "0  Logistic Regression       actual   0.713605  0.583723  0.642162  0.899245\n",
       "1  Logistic Regression        smote   0.566582  0.812012  0.667450  0.892515\n",
       "2  Logistic Regression  smote+tomek   0.569082  0.810712  0.668740  0.892756\n",
       "3        Decision Tree       actual   0.775116  0.521581  0.623562  0.900161\n",
       "4        Decision Tree        smote   0.364259  0.885075  0.516109  0.688282\n",
       "5        Decision Tree  smote+tomek   0.409216  0.891316  0.560910  0.811075"
      ]
     },
     "execution_count": 102,
     "metadata": {},
     "output_type": "execute_result"
    }
   ],
   "source": [
    "clf_eval_df"
   ]
  },
  {
   "cell_type": "code",
   "execution_count": 104,
   "id": "3dc2544b",
   "metadata": {},
   "outputs": [
    {
     "data": {
      "text/plain": [
       "<seaborn.axisgrid.FacetGrid at 0x19694e7d7c0>"
      ]
     },
     "execution_count": 104,
     "metadata": {},
     "output_type": "execute_result"
    },
    {
     "data": {
      "image/png": "[encoded data removed]",
      "text/plain": [
       "<Figure size 720x360 with 2 Axes>"
      ]
     },
     "metadata": {},
     "output_type": "display_data"
    }
   ],
   "source": [
    "sb.set(font_scale=1.2)\n",
    "g = sb.FacetGrid(clf_eval_df, col=\"model\", height=5)\n",
    "g.map(sb.barplot, \"resample\", \"recall\", palette='twilight', order=[\"actual\", \"smote\",\"smote+tomek\"])\n",
    "g.set_xticklabels(rotation=30)\n",
    "g.set_xlabels(' ', fontsize=14)\n",
    "g.set_ylabels('Recall', fontsize=14)"
   ]
  },
  {
   "cell_type": "code",
   "execution_count": null,
   "id": "05f47285",
   "metadata": {},
   "outputs": [],
   "source": []
  }
 ],
 "metadata": {
  "kernelspec": {
   "display_name": "Python 3",
   "language": "python",
   "name": "python3"
  },
  "language_info": {
   "codemirror_mode": {
    "name": "ipython",
    "version": 3
   },
   "file_extension": ".py",
   "mimetype": "text/x-python",
   "name": "python",
   "nbconvert_exporter": "python",
   "pygments_lexer": "ipython3",
   "version": "3.8.8"
  }
 },
 "nbformat": 4,
 "nbformat_minor": 5
}
